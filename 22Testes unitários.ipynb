{
 "cells": [
  {
   "cell_type": "code",
   "execution_count": 3,
   "metadata": {},
   "outputs": [
    {
     "name": "stdout",
     "output_type": "stream",
     "text": [
      "[':)', ':)', ':)']\n"
     ]
    }
   ],
   "source": [
    "import itertools\n",
    "\n",
    "def smile(l):\n",
    "    return list(itertools.chain(*[[':)']*i for i in l]))\n",
    "\n",
    "print(smile([1,2]))"
   ]
  },
  {
   "cell_type": "markdown",
   "metadata": {},
   "source": [
    "## Teste unitário"
   ]
  },
  {
   "cell_type": "code",
   "execution_count": 5,
   "metadata": {},
   "outputs": [
    {
     "name": "stdout",
     "output_type": "stream",
     "text": [
      "Começando o teste\n",
      "Feito\n"
     ]
    }
   ],
   "source": [
    "print('Começando o teste')\n",
    "assert(smile([]) == [])\n",
    "assert(smile([1]) == [':)'])\n",
    "assert(smile([0]) == [])\n",
    "assert(smile([1, 0, 2]) == [':)', ':)', ':)'])\n",
    "print('Feito')"
   ]
  },
  {
   "cell_type": "markdown",
   "metadata": {},
   "source": [
    "## Prova\n",
    "\n",
    "Analisando os resultados dos testes, notamos que \n",
    "\n",
    "l*a + /b + l*c, onde l é o smile e a, b, c são a quantidade de smiles nas listas\n",
    "Então podemos simplificar a função smile."
   ]
  },
  {
   "cell_type": "code",
   "execution_count": null,
   "metadata": {},
   "outputs": [],
   "source": []
  },
  {
   "cell_type": "code",
   "execution_count": null,
   "metadata": {},
   "outputs": [],
   "source": []
  }
 ],
 "metadata": {
  "kernelspec": {
   "display_name": "Python 3",
   "language": "python",
   "name": "python3"
  },
  "language_info": {
   "codemirror_mode": {
    "name": "ipython",
    "version": 3
   },
   "file_extension": ".py",
   "mimetype": "text/x-python",
   "name": "python",
   "nbconvert_exporter": "python",
   "pygments_lexer": "ipython3",
   "version": "3.6.4"
  }
 },
 "nbformat": 4,
 "nbformat_minor": 2
}
