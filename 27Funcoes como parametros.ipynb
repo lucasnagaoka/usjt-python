{
 "cells": [
  {
   "cell_type": "markdown",
   "metadata": {},
   "source": [
    "## Passando funções como parâmetros"
   ]
  },
  {
   "cell_type": "markdown",
   "metadata": {},
   "source": [
    "### Começando pelo fatorial"
   ]
  },
  {
   "cell_type": "code",
   "execution_count": 1,
   "metadata": {},
   "outputs": [],
   "source": [
    "l_fatorial = lambda n: 1 if n == 0 else n * l_fatorial(n -1)"
   ]
  },
  {
   "cell_type": "markdown",
   "metadata": {},
   "source": [
    "## Calculando o tempo de execução"
   ]
  },
  {
   "cell_type": "markdown",
   "metadata": {},
   "source": [
    "### Modo procedural"
   ]
  },
  {
   "cell_type": "code",
   "execution_count": 14,
   "metadata": {},
   "outputs": [
    {
     "name": "stdout",
     "output_type": "stream",
     "text": [
      "Demorou: 0.00119 s\n"
     ]
    }
   ],
   "source": [
    "import time\n",
    "\n",
    "t0 = time.time()\n",
    "l_fatorial(900)\n",
    "t1 = time.time()\n",
    "print('Demorou: %.5f s' % (t1 - t0))"
   ]
  },
  {
   "cell_type": "markdown",
   "metadata": {},
   "source": [
    "## Modo funcional com função def"
   ]
  },
  {
   "cell_type": "code",
   "execution_count": 19,
   "metadata": {},
   "outputs": [
    {
     "name": "stdout",
     "output_type": "stream",
     "text": [
      "Demorou: 0.00090 s\n"
     ]
    }
   ],
   "source": [
    "def timer(fnc, arg):\n",
    "    t0 = time.time()\n",
    "    fnc(arg)\n",
    "    t1 = time.time()\n",
    "    return t1 - t0\n",
    "\n",
    "print('Demorou: %.5f s' % timer(l_fatorial, 900))"
   ]
  },
  {
   "cell_type": "markdown",
   "metadata": {},
   "source": [
    "## Modo funcional com funções lambda"
   ]
  },
  {
   "cell_type": "code",
   "execution_count": 20,
   "metadata": {},
   "outputs": [
    {
     "name": "stdout",
     "output_type": "stream",
     "text": [
      "Demorou: 0.00100 s\n"
     ]
    }
   ],
   "source": [
    "l_timestamp = lambda fnc, arg: (time.time(), fnc(arg), time.time())\n",
    "l_diff = lambda t0, retval, t1: t1 - t0\n",
    "l_timer = lambda fnc, arg: l_diff(*l_timestamp(fnc, arg))\n",
    "\n",
    "print('Demorou: %.5f s' % l_timer(l_fatorial, 900))"
   ]
  },
  {
   "cell_type": "code",
   "execution_count": null,
   "metadata": {},
   "outputs": [],
   "source": []
  }
 ],
 "metadata": {
  "kernelspec": {
   "display_name": "Python 3",
   "language": "python",
   "name": "python3"
  },
  "language_info": {
   "codemirror_mode": {
    "name": "ipython",
    "version": 3
   },
   "file_extension": ".py",
   "mimetype": "text/x-python",
   "name": "python",
   "nbconvert_exporter": "python",
   "pygments_lexer": "ipython3",
   "version": "3.6.4"
  }
 },
 "nbformat": 4,
 "nbformat_minor": 2
}
