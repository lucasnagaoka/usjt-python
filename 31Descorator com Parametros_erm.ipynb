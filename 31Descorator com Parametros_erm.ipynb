{
 "cells": [
  {
   "cell_type": "code",
   "execution_count": 1,
   "metadata": {},
   "outputs": [
    {
     "data": {
      "text/plain": [
       "6"
      ]
     },
     "execution_count": 1,
     "metadata": {},
     "output_type": "execute_result"
    }
   ],
   "source": [
    "def fatorial(n):\n",
    "    return 1 if n == 0 else n*fatorial(n-1)\n",
    "fatorial(3)"
   ]
  },
  {
   "cell_type": "markdown",
   "metadata": {},
   "source": [
    "\n",
    "## E se quisermos usar diferentes unidades de tempo?"
   ]
  },
  {
   "cell_type": "code",
   "execution_count": 5,
   "metadata": {},
   "outputs": [
    {
     "data": {
      "text/plain": [
       "1.0006427764892578"
      ]
     },
     "execution_count": 5,
     "metadata": {},
     "output_type": "execute_result"
    }
   ],
   "source": [
    "import time\n",
    "\n",
    "def timer_with_args(units=\"s\"):\n",
    "    \n",
    "    def timer(fnc):\n",
    "        \n",
    "        def inner(arg):\n",
    "            \n",
    "            t0 = time.time()\n",
    "            fnc(arg)\n",
    "            t1 = time.time()\n",
    "            diff = t1-t0\n",
    "            if units == 'ms':\n",
    "                diff *= 1000\n",
    "            return diff\n",
    "        \n",
    "        return inner\n",
    "    return timer\n",
    "\n",
    "timed_fatorial = timer_with_args(units=\"ms\")(fatorial)\n",
    "timed_fatorial(500)"
   ]
  },
  {
   "cell_type": "markdown",
   "metadata": {},
   "source": [
    "## Decorator com Argumentos usando a notação @"
   ]
  },
  {
   "cell_type": "code",
   "execution_count": 16,
   "metadata": {},
   "outputs": [
    {
     "data": {
      "text/plain": [
       "0.0010004043579101562"
      ]
     },
     "execution_count": 16,
     "metadata": {},
     "output_type": "execute_result"
    }
   ],
   "source": [
    "@timer_with_args(units='s')\n",
    "def fatorial(n):\n",
    "    return 1 if n == 0 else n*fatorial(n-1)\n",
    "\n",
    "fatorial(400)"
   ]
  },
  {
   "cell_type": "code",
   "execution_count": null,
   "metadata": {
    "collapsed": true
   },
   "outputs": [],
   "source": []
  }
 ],
 "metadata": {
  "kernelspec": {
   "display_name": "Python 3",
   "language": "python",
   "name": "python3"
  },
  "language_info": {
   "codemirror_mode": {
    "name": "ipython",
    "version": 3
   },
   "file_extension": ".py",
   "mimetype": "text/x-python",
   "name": "python",
   "nbconvert_exporter": "python",
   "pygments_lexer": "ipython3",
   "version": "3.6.4"
  }
 },
 "nbformat": 4,
 "nbformat_minor": 2
}
