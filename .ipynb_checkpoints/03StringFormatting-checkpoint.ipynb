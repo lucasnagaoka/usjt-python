{
 "cells": [
  {
   "cell_type": "code",
   "execution_count": 2,
   "metadata": {
    "collapsed": false
   },
   "outputs": [
    {
     "name": "stdout",
     "output_type": "stream",
     "text": [
      "Vou inserir alguma coisa aqui\n"
     ]
    }
   ],
   "source": [
    "print(\"Vou inserir %s aqui\" %\"alguma coisa\")"
   ]
  },
  {
   "cell_type": "code",
   "execution_count": 11,
   "metadata": {
    "collapsed": false
   },
   "outputs": [
    {
     "name": "stdout",
     "output_type": "stream",
     "text": [
      "Vou inserir alguma coisa aqui e outra coisa e mais uma coisa.\n"
     ]
    }
   ],
   "source": [
    "print(\"Vou inserir %s aqui e %s e %s.\" %(\"alguma coisa\", \"outra coisa\", \"mais uma coisa\"))"
   ]
  },
  {
   "cell_type": "code",
   "execution_count": 7,
   "metadata": {
    "collapsed": false
   },
   "outputs": [
    {
     "name": "stdout",
     "output_type": "stream",
     "text": [
      "Vou inserir alguma coisa aqui e outra coisa e mais uma coisa.\n"
     ]
    }
   ],
   "source": [
    "x  = 'alguma coisa'\n",
    "y = 'outra coisa'\n",
    "z = 'mais uma coisa'\n",
    "print(\"Vou inserir %s aqui e %s e %s.\" %(x,y,z))"
   ]
  },
  {
   "cell_type": "code",
   "execution_count": 9,
   "metadata": {
    "collapsed": false
   },
   "outputs": [
    {
     "name": "stdout",
     "output_type": "stream",
     "text": [
      "Número decimal: 13.14\n"
     ]
    }
   ],
   "source": [
    "print(\"Número decimal: %5.2f\" %13.144)"
   ]
  },
  {
   "cell_type": "code",
   "execution_count": 10,
   "metadata": {
    "collapsed": false
   },
   "outputs": [
    {
     "name": "stdout",
     "output_type": "stream",
     "text": [
      "Número decimal: 13\n"
     ]
    }
   ],
   "source": [
    "print(\"Número decimal: %1.0f\" %13.144)"
   ]
  },
  {
   "cell_type": "code",
   "execution_count": 12,
   "metadata": {
    "collapsed": false
   },
   "outputs": [
    {
     "name": "stdout",
     "output_type": "stream",
     "text": [
      "Número decimal: 13.14400\n"
     ]
    }
   ],
   "source": [
    "print(\"Número decimal: %1.5f\" %13.144)"
   ]
  },
  {
   "cell_type": "code",
   "execution_count": 13,
   "metadata": {
    "collapsed": false
   },
   "outputs": [
    {
     "name": "stdout",
     "output_type": "stream",
     "text": [
      "Número decimal:      13.14\n"
     ]
    }
   ],
   "source": [
    "print(\"Número decimal: %10.2f\" %13.144)"
   ]
  },
  {
   "cell_type": "code",
   "execution_count": 15,
   "metadata": {
    "collapsed": false
   },
   "outputs": [
    {
     "name": "stdout",
     "output_type": "stream",
     "text": [
      "Primeiro: olá\n",
      "Segundo:  3.14\n",
      "Terceiro:   500\n"
     ]
    }
   ],
   "source": [
    "print(\"Primeiro: %s\\nSegundo: %5.2f\\nTerceiro: %5d\" % ('olá', 3.14, 500))"
   ]
  },
  {
   "cell_type": "code",
   "execution_count": 17,
   "metadata": {
    "collapsed": false
   },
   "outputs": [
    {
     "name": "stdout",
     "output_type": "stream",
     "text": [
      "Primeiro:        olá\n",
      "Segundo:       3.14\n",
      "Terceiro:        500\n"
     ]
    }
   ],
   "source": [
    "print(\"Primeiro: %10s\\nSegundo: %10.2f\\nTerceiro: %10d\" % ('olá', 3.14, 500))"
   ]
  },
  {
   "cell_type": "code",
   "execution_count": 19,
   "metadata": {
    "collapsed": false
   },
   "outputs": [
    {
     "name": "stdout",
     "output_type": "stream",
     "text": [
      "Primeiro: olá\n",
      "Segundo: 3.1415\n",
      "Terceiro: 500\n"
     ]
    }
   ],
   "source": [
    "print(\"Primeiro: \" + \"olá\" + \"\\nSegundo: \" + str(3.1415) + \"\\nTerceiro: \" + str(500))"
   ]
  },
  {
   "cell_type": "raw",
   "metadata": {},
   "source": []
  },
  {
   "cell_type": "code",
   "execution_count": null,
   "metadata": {
    "collapsed": true
   },
   "outputs": [],
   "source": []
  }
 ],
 "metadata": {
  "kernelspec": {
   "display_name": "Python 3",
   "language": "python",
   "name": "python3"
  },
  "language_info": {
   "codemirror_mode": {
    "name": "ipython",
    "version": 3
   },
   "file_extension": ".py",
   "mimetype": "text/x-python",
   "name": "python",
   "nbconvert_exporter": "python",
   "pygments_lexer": "ipython3",
   "version": "3.6.0"
  }
 },
 "nbformat": 4,
 "nbformat_minor": 2
}
