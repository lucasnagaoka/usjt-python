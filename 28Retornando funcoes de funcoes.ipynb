{
 "cells": [
  {
   "cell_type": "markdown",
   "metadata": {},
   "source": [
    "## Retornando uma função de outra função"
   ]
  },
  {
   "cell_type": "markdown",
   "metadata": {},
   "source": [
    "### Quatro passos para assar um pãozinho"
   ]
  },
  {
   "cell_type": "code",
   "execution_count": 6,
   "metadata": {},
   "outputs": [],
   "source": [
    "preaquecer_forno = lambda: print('Preaquecendo o forno')\n",
    "colocar_paozinho = lambda: print('Colocando o pãozinho no forno')\n",
    "esperar_cinco_minutos = lambda: print('Esperando cinco minutos')\n",
    "tirar_paozinho = lambda: print('Tirando o pãozinho do forno')"
   ]
  },
  {
   "cell_type": "code",
   "execution_count": 7,
   "metadata": {},
   "outputs": [
    {
     "name": "stdout",
     "output_type": "stream",
     "text": [
      "Preaquecendo o forno\n",
      "Colocando o pãozinho no forno\n",
      "Esperando cinco minutos\n",
      "Tirando o pãozinho do forno\n"
     ]
    }
   ],
   "source": [
    "preaquecer_forno()\n",
    "colocar_paozinho()\n",
    "esperar_cinco_minutos()\n",
    "tirar_paozinho()"
   ]
  },
  {
   "cell_type": "markdown",
   "metadata": {},
   "source": [
    "### Criando uma função launcher e passando todos os passos para ela\n",
    "Assar pãezinhos"
   ]
  },
  {
   "cell_type": "code",
   "execution_count": 9,
   "metadata": {},
   "outputs": [
    {
     "name": "stdout",
     "output_type": "stream",
     "text": [
      "Preaquecendo o forno\n",
      "Colocando o pãozinho no forno\n",
      "Esperando cinco minutos\n",
      "Tirando o pãozinho do forno\n"
     ]
    }
   ],
   "source": [
    "def perform_steps(*functions):\n",
    "    for function in functions:\n",
    "        function()\n",
    "\n",
    "perform_steps(preaquecer_forno,\n",
    "             colocar_paozinho,\n",
    "             esperar_cinco_minutos,\n",
    "             tirar_paozinho)"
   ]
  },
  {
   "cell_type": "markdown",
   "metadata": {},
   "source": [
    "## Empacotar todos os passos em uma única função"
   ]
  },
  {
   "cell_type": "code",
   "execution_count": 10,
   "metadata": {},
   "outputs": [
    {
     "name": "stdout",
     "output_type": "stream",
     "text": [
      "Preaquecendo o forno\n",
      "Colocando o pãozinho no forno\n",
      "Esperando cinco minutos\n",
      "Tirando o pãozinho do forno\n"
     ]
    }
   ],
   "source": [
    "def criar_receita(*functions):\n",
    "    \n",
    "    def run_all():\n",
    "        for function in functions:\n",
    "            function()\n",
    "            \n",
    "    return run_all\n",
    "\n",
    "receita = criar_receita(preaquecer_forno,\n",
    "             colocar_paozinho,\n",
    "             esperar_cinco_minutos,\n",
    "             tirar_paozinho)\n",
    "\n",
    "receita()"
   ]
  },
  {
   "cell_type": "code",
   "execution_count": null,
   "metadata": {},
   "outputs": [],
   "source": []
  }
 ],
 "metadata": {
  "kernelspec": {
   "display_name": "Python 3",
   "language": "python",
   "name": "python3"
  },
  "language_info": {
   "codemirror_mode": {
    "name": "ipython",
    "version": 3
   },
   "file_extension": ".py",
   "mimetype": "text/x-python",
   "name": "python",
   "nbconvert_exporter": "python",
   "pygments_lexer": "ipython3",
   "version": "3.6.4"
  }
 },
 "nbformat": 4,
 "nbformat_minor": 2
}
