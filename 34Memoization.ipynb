{
 "cells": [
  {
   "cell_type": "markdown",
   "metadata": {},
   "source": [
    "## Algumas funções custam caro\n",
    "Função que retorna o maior número primo do parâmetro passado"
   ]
  },
  {
   "cell_type": "code",
   "execution_count": 4,
   "metadata": {},
   "outputs": [
    {
     "name": "stdout",
     "output_type": "stream",
     "text": [
      "11\n"
     ]
    }
   ],
   "source": [
    "def primo(n):\n",
    "    for i in range(n, 0 ,-1):\n",
    "        if all([i // x != i / x for x in range(i-1, 1, -1)]):\n",
    "            return i\n",
    "        \n",
    "print(primo(11))"
   ]
  },
  {
   "cell_type": "code",
   "execution_count": 5,
   "metadata": {},
   "outputs": [],
   "source": [
    "n = 10"
   ]
  },
  {
   "cell_type": "code",
   "execution_count": 6,
   "metadata": {},
   "outputs": [
    {
     "data": {
      "text/plain": [
       "[10, 9, 8, 7, 6, 5, 4, 3, 2, 1]"
      ]
     },
     "execution_count": 6,
     "metadata": {},
     "output_type": "execute_result"
    }
   ],
   "source": [
    "list(range(n, 0, -1))"
   ]
  },
  {
   "cell_type": "code",
   "execution_count": 7,
   "metadata": {},
   "outputs": [],
   "source": [
    "i = 10"
   ]
  },
  {
   "cell_type": "code",
   "execution_count": 8,
   "metadata": {},
   "outputs": [
    {
     "data": {
      "text/plain": [
       "[9, 8, 7, 6, 5, 4, 3, 2]"
      ]
     },
     "execution_count": 8,
     "metadata": {},
     "output_type": "execute_result"
    }
   ],
   "source": [
    "list(range(i-1, 1, -1))"
   ]
  },
  {
   "cell_type": "markdown",
   "metadata": {},
   "source": [
    "## Caching\n",
    "Podemos aumentar a velocidade da função armazenando resultados em um cache."
   ]
  },
  {
   "cell_type": "code",
   "execution_count": 12,
   "metadata": {},
   "outputs": [
    {
     "name": "stdout",
     "output_type": "stream",
     "text": [
      "9999991\n",
      "9999991\n"
     ]
    }
   ],
   "source": [
    "cache = {}\n",
    "\n",
    "def cache_primo(n):\n",
    "    if n in cache:\n",
    "        return cache[n]\n",
    "    for i in range(n, 0 ,-1):\n",
    "        if all([i // x != i / x for x in range(i-1, 1, -1)]):\n",
    "            cache[n] = i\n",
    "            return i\n",
    "print(cache_primo(10000000))\n",
    "print(cache_primo(10000000))"
   ]
  },
  {
   "cell_type": "markdown",
   "metadata": {},
   "source": [
    "## Memoization\n",
    "Cache genérico para qualquer função"
   ]
  },
  {
   "cell_type": "code",
   "execution_count": 15,
   "metadata": {},
   "outputs": [
    {
     "name": "stdout",
     "output_type": "stream",
     "text": [
      "9999991\n",
      "9999991\n"
     ]
    }
   ],
   "source": [
    "def memoize(fnc):\n",
    "    cache = {}\n",
    "    \n",
    "    def inner(*args):\n",
    "        if args in cache:\n",
    "            return cache[args]\n",
    "        cache[args] = fnc(*args)\n",
    "        return cache[args]\n",
    "    \n",
    "    return inner\n",
    "\n",
    "@memoize\n",
    "def memoized_primo(n):\n",
    "    for i in range(n, 0 ,-1):\n",
    "        if all([i // x != i / x for x in range(i-1, 1, -1)]):\n",
    "            return i\n",
    "        \n",
    "print(memoized_primo(10000000))\n",
    "print(memoized_primo(10000000))"
   ]
  }
 ],
 "metadata": {
  "kernelspec": {
   "display_name": "Python 3",
   "language": "python",
   "name": "python3"
  },
  "language_info": {
   "codemirror_mode": {
    "name": "ipython",
    "version": 3
   },
   "file_extension": ".py",
   "mimetype": "text/x-python",
   "name": "python",
   "nbconvert_exporter": "python",
   "pygments_lexer": "ipython3",
   "version": "3.6.4"
  }
 },
 "nbformat": 4,
 "nbformat_minor": 2
}
