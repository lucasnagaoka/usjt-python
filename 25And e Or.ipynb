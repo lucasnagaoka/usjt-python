{
 "cells": [
  {
   "cell_type": "markdown",
   "metadata": {},
   "source": [
    "## Entendendo melhor o ```and``` e o ```or```"
   ]
  },
  {
   "cell_type": "code",
   "execution_count": 6,
   "metadata": {},
   "outputs": [
    {
     "data": {
      "text/plain": [
       "True"
      ]
     },
     "execution_count": 6,
     "metadata": {},
     "output_type": "execute_result"
    }
   ],
   "source": [
    "ANIMAIS = 'mamífero', 'réptil', 'anfíbio', 'ave'\n",
    "ANIMAIS_QUE_BOTAM_OVOS = 'réptil', 'anfíbio', 'ave'\n",
    "\n",
    "is_animal = lambda animal: animal in ANIMAIS\n",
    "animal_que_bota_ovos = lambda animal: animal in ANIMAIS_QUE_BOTAM_OVOS\n",
    "\n",
    "bota_ovos = lambda coisa: is_animal(coisa) and animal_que_bota_ovos(coisa)\n",
    "\n",
    "bota_ovos('réptil')"
   ]
  },
  {
   "cell_type": "code",
   "execution_count": 11,
   "metadata": {},
   "outputs": [
    {
     "data": {
      "text/plain": [
       "False"
      ]
     },
     "execution_count": 11,
     "metadata": {},
     "output_type": "execute_result"
    }
   ],
   "source": [
    "ANIMAIS = 'mamífero', 'réptil', 'anfíbio', 'ave'\n",
    "ANIMAIS_QUE_BOTAM_OVOS = 'réptil', 'anfíbio', 'ave'\n",
    "\n",
    "is_animal = lambda animal: animal in ANIMAIS\n",
    "animal_que_bota_ovos = lambda animal: print('x') or animal in ANIMAIS_QUE_BOTAM_OVOS\n",
    "\n",
    "bota_ovos = lambda coisa: is_animal(coisa) and animal_que_bota_ovos(coisa)\n",
    "\n",
    "bota_ovos('vaca')"
   ]
  },
  {
   "cell_type": "code",
   "execution_count": null,
   "metadata": {},
   "outputs": [],
   "source": []
  }
 ],
 "metadata": {
  "kernelspec": {
   "display_name": "Python 3",
   "language": "python",
   "name": "python3"
  },
  "language_info": {
   "codemirror_mode": {
    "name": "ipython",
    "version": 3
   },
   "file_extension": ".py",
   "mimetype": "text/x-python",
   "name": "python",
   "nbconvert_exporter": "python",
   "pygments_lexer": "ipython3",
   "version": "3.6.4"
  }
 },
 "nbformat": 4,
 "nbformat_minor": 2
}
