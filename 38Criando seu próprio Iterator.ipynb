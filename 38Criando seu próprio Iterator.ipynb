{
 "cells": [
  {
   "cell_type": "markdown",
   "metadata": {},
   "source": [
    "## Um Iterator\n",
    "É uma classe que implementa pelo menos os seguintes métodos:\n",
    "- ```__iter__()```\n",
    "- ```__next__()```"
   ]
  },
  {
   "cell_type": "code",
   "execution_count": 4,
   "metadata": {},
   "outputs": [],
   "source": [
    "import random\n",
    "\n",
    "class RandomIterator:\n",
    "    \n",
    "    def __init__(self, *elements):\n",
    "        self._elements = list(elements)\n",
    "    \n",
    "    def __iter__(self):\n",
    "        random.shuffle(self._elements)\n",
    "        self._cursor = 0\n",
    "        return self\n",
    "\n",
    "    def __next__(self):\n",
    "        if self._cursor >= len(self._elements):\n",
    "            raise StopIteration()\n",
    "        e = self._elements[self._cursor]\n",
    "        self._cursor += 1\n",
    "        return e"
   ]
  },
  {
   "cell_type": "code",
   "execution_count": 5,
   "metadata": {},
   "outputs": [
    {
     "name": "stdout",
     "output_type": "stream",
     "text": [
      "2\n",
      "1\n",
      "3\n"
     ]
    }
   ],
   "source": [
    "i = RandomIterator(1, 2, 3)\n",
    "for e in i:\n",
    "    print(e)"
   ]
  }
 ],
 "metadata": {
  "kernelspec": {
   "display_name": "Python 3",
   "language": "python",
   "name": "python3"
  },
  "language_info": {
   "codemirror_mode": {
    "name": "ipython",
    "version": 3
   },
   "file_extension": ".py",
   "mimetype": "text/x-python",
   "name": "python",
   "nbconvert_exporter": "python",
   "pygments_lexer": "ipython3",
   "version": "3.6.4"
  }
 },
 "nbformat": 4,
 "nbformat_minor": 2
}
