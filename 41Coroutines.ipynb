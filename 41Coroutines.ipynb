{
 "cells": [
  {
   "cell_type": "markdown",
   "metadata": {},
   "source": [
    "## Dois Generators em paralelo"
   ]
  },
  {
   "cell_type": "code",
   "execution_count": 1,
   "metadata": {},
   "outputs": [
    {
     "name": "stdout",
     "output_type": "stream",
     "text": [
      "1 0\n",
      "1 1\n",
      "2 1\n",
      "3 2\n",
      "5 4\n",
      "8 7\n",
      "13 13\n",
      "21 24\n",
      "34 44\n",
      "55 81\n"
     ]
    }
   ],
   "source": [
    "def fibonacci():\n",
    "    yield 1\n",
    "    yield 1\n",
    "    lista = [1, 1]\n",
    "    while True:\n",
    "        lista = [lista[-1], sum(lista[-2:])]\n",
    "        yield lista[-1]\n",
    "        \n",
    "def tribonacci():\n",
    "    yield 0\n",
    "    yield 1\n",
    "    yield 1\n",
    "    lista = [0, 1, 1]\n",
    "    while True:\n",
    "        lista = [lista[-2], lista[-1], sum(lista[-3:])]\n",
    "        yield lista[-1]\n",
    "        \n",
    "for i, (f, t) in enumerate(zip(fibonacci(), tribonacci())):\n",
    "    if i == 10:\n",
    "        break\n",
    "    print(f, t)"
   ]
  },
  {
   "cell_type": "markdown",
   "metadata": {},
   "source": [
    "## Dois Generators se comunicando"
   ]
  },
  {
   "cell_type": "code",
   "execution_count": 5,
   "metadata": {},
   "outputs": [
    {
     "name": "stdout",
     "output_type": "stream",
     "text": [
      "Recebido: Tranquilão.\n",
      "\n",
      "Respondido: Tranquilão.\n",
      "Recebido: Sussa!\n",
      "\n",
      "Respondido: Sussa!\n",
      "Recebido: Tranquilão.\n",
      "\n",
      "Respondido: Sussa!\n",
      "Recebido: Beleza, e você?\n",
      "\n",
      "Respondido: Falow!\n",
      "Recebido: Falow!\n"
     ]
    }
   ],
   "source": [
    "import random\n",
    "\n",
    "SENTENCES = [\n",
    "    'E aí?',\n",
    "    'Beleza, e você?',\n",
    "    'Sussa!',\n",
    "    'Tranquilão.',\n",
    "    'Falow!'\n",
    "]\n",
    "\n",
    "def speaker():\n",
    "    while True:\n",
    "        yield random.choice(SENTENCES)\n",
    "\n",
    "def replier():\n",
    "    while True:\n",
    "        recv = yield\n",
    "        print('Recebido: %s' % recv)\n",
    "        if recv == 'Falow!':\n",
    "            break\n",
    "        print('\\nRespondido: %s' % random.choice(SENTENCES))\n",
    "        \n",
    "s = speaker()\n",
    "r = replier()\n",
    "\n",
    "r.send(None)\n",
    "while True:\n",
    "    recv = s.send(None)\n",
    "    try:\n",
    "        r.send(recv)\n",
    "    except StopIteration:\n",
    "        break"
   ]
  }
 ],
 "metadata": {
  "kernelspec": {
   "display_name": "Python 3",
   "language": "python",
   "name": "python3"
  },
  "language_info": {
   "codemirror_mode": {
    "name": "ipython",
    "version": 3
   },
   "file_extension": ".py",
   "mimetype": "text/x-python",
   "name": "python",
   "nbconvert_exporter": "python",
   "pygments_lexer": "ipython3",
   "version": "3.6.4"
  }
 },
 "nbformat": 4,
 "nbformat_minor": 2
}
