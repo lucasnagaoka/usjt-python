{
 "cells": [
  {
   "cell_type": "markdown",
   "metadata": {},
   "source": [
    "## Exemplo stateful"
   ]
  },
  {
   "cell_type": "code",
   "execution_count": 2,
   "metadata": {},
   "outputs": [
    {
     "name": "stdout",
     "output_type": "stream",
     "text": [
      "[João] Hello World!\n",
      "[Carlos] Foobar\n"
     ]
    }
   ],
   "source": [
    "current_speaker = None\n",
    "\n",
    "def register(name):\n",
    "    global current_speaker\n",
    "    current_speaker = name\n",
    "    \n",
    "def speak(text):\n",
    "    print('[%s] %s' % (current_speaker, text))\n",
    "    \n",
    "register('João')\n",
    "speak('Hello World!')\n",
    "register('Carlos')\n",
    "speak('Foobar')"
   ]
  },
  {
   "cell_type": "markdown",
   "metadata": {},
   "source": [
    "## Objetos também são stateful"
   ]
  },
  {
   "cell_type": "code",
   "execution_count": 4,
   "metadata": {},
   "outputs": [
    {
     "name": "stdout",
     "output_type": "stream",
     "text": [
      "[João] Hellow World!\n",
      "[Carlos] Foobar\n"
     ]
    }
   ],
   "source": [
    "class Speaker():\n",
    "    def __init__(self, name):\n",
    "        self._name = name\n",
    "    \n",
    "    def speak(self, text):\n",
    "        print('[%s] %s' % (self._name, text))\n",
    "        \n",
    "joao = Speaker('João')\n",
    "joao.speak('Hellow World!')\n",
    "carlos = Speaker('Carlos')\n",
    "carlos.speak('Foobar')"
   ]
  },
  {
   "cell_type": "markdown",
   "metadata": {},
   "source": [
    "## Funções stateless geralmente são triviais"
   ]
  },
  {
   "cell_type": "code",
   "execution_count": 6,
   "metadata": {},
   "outputs": [
    {
     "name": "stdout",
     "output_type": "stream",
     "text": [
      "[João] Hello World!\n",
      "[Carlos] Foobar\n"
     ]
    }
   ],
   "source": [
    "def speak(speaker, text):\n",
    "    print('[%s] %s' % (speaker, text))\n",
    "    \n",
    "joao = 'João'\n",
    "speak(joao, 'Hello World!')\n",
    "carlos = 'Carlos'\n",
    "speak(carlos, 'Foobar')"
   ]
  },
  {
   "cell_type": "code",
   "execution_count": null,
   "metadata": {},
   "outputs": [],
   "source": []
  }
 ],
 "metadata": {
  "kernelspec": {
   "display_name": "Python 3",
   "language": "python",
   "name": "python3"
  },
  "language_info": {
   "codemirror_mode": {
    "name": "ipython",
    "version": 3
   },
   "file_extension": ".py",
   "mimetype": "text/x-python",
   "name": "python",
   "nbconvert_exporter": "python",
   "pygments_lexer": "ipython3",
   "version": "3.6.4"
  }
 },
 "nbformat": 4,
 "nbformat_minor": 2
}
