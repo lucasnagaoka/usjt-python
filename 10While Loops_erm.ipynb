{
 "cells": [
  {
   "cell_type": "markdown",
   "metadata": {},
   "source": [
    "Laços de Repetição While Loops"
   ]
  },
  {
   "cell_type": "code",
   "execution_count": 2,
   "metadata": {},
   "outputs": [
    {
     "name": "stdout",
     "output_type": "stream",
     "text": [
      "o valor de x é 0\n",
      "x ainda é menor que 10\n",
      "o valor de x é 1\n",
      "x ainda é menor que 10\n",
      "o valor de x é 2\n",
      "x ainda é menor que 10\n",
      "o valor de x é 3\n",
      "x ainda é menor que 10\n",
      "o valor de x é 4\n",
      "x ainda é menor que 10\n",
      "o valor de x é 5\n",
      "x ainda é menor que 10\n",
      "o valor de x é 6\n",
      "x ainda é menor que 10\n",
      "o valor de x é 7\n",
      "x ainda é menor que 10\n",
      "o valor de x é 8\n",
      "x ainda é menor que 10\n",
      "o valor de x é 9\n",
      "x ainda é menor que 10\n"
     ]
    }
   ],
   "source": [
    "x = 0\n",
    "\n",
    "while x < 10:\n",
    "    print(f'o valor de x é {x}')\n",
    "    print('x ainda é menor que 10')\n",
    "    x+=1"
   ]
  },
  {
   "cell_type": "code",
   "execution_count": 5,
   "metadata": {},
   "outputs": [
    {
     "name": "stdout",
     "output_type": "stream",
     "text": [
      "o valor de x é 0\n",
      "x ainda é menor que 10\n",
      "o valor de x é 1\n",
      "x ainda é menor que 10\n",
      "o valor de x é 2\n",
      "x ainda é menor que 10\n",
      "o valor de x é 3\n",
      "x ainda é menor que 10\n",
      "o valor de x é 4\n",
      "x ainda é menor que 10\n",
      "o valor de x é 5\n",
      "x ainda é menor que 10\n",
      "o valor de x é 6\n",
      "x ainda é menor que 10\n",
      "o valor de x é 7\n",
      "x ainda é menor que 10\n",
      "o valor de x é 8\n",
      "x ainda é menor que 10\n",
      "o valor de x é 9\n",
      "x ainda é menor que 10\n",
      "Terminou\n"
     ]
    }
   ],
   "source": [
    "x = 0\n",
    "while x < 10:\n",
    "    print(f'o valor de x é {x}')\n",
    "    print('x ainda é menor que 10')\n",
    "    x+=1\n",
    "else:\n",
    "    print('Terminou')"
   ]
  },
  {
   "cell_type": "code",
   "execution_count": 7,
   "metadata": {},
   "outputs": [
    {
     "name": "stdout",
     "output_type": "stream",
     "text": [
      "0 continuando...\n",
      "1 continuando...\n",
      "2 continuando...\n",
      "3 continuando...\n",
      "4 continuando...\n",
      "5 continuando...\n",
      "6 continuando...\n",
      "7 continuando...\n",
      "8 continuando...\n",
      "9 continuando...\n",
      "10 continuando...\n",
      "11 Saindo...\n"
     ]
    }
   ],
   "source": [
    "x = 0 \n",
    "while True:\n",
    "    if x > 10:\n",
    "        print(f'{x} Saindo...')\n",
    "        break\n",
    "    else:\n",
    "        print(f'{x} continuando...')\n",
    "    x+=1"
   ]
  },
  {
   "cell_type": "code",
   "execution_count": 8,
   "metadata": {},
   "outputs": [
    {
     "name": "stdout",
     "output_type": "stream",
     "text": [
      "0 continuando...\n",
      "1 continuando...\n",
      "2 continuando...\n",
      "3 continuando...\n",
      "4 continuando...\n",
      "5 continuando...\n",
      "6 continuando...\n",
      "7 continuando...\n",
      "8 continuando...\n",
      "9 continuando...\n",
      "10 continuando...\n",
      "11 Saindo...\n"
     ]
    }
   ],
   "source": [
    "x = 0 \n",
    "while True:\n",
    "    if x > 10:\n",
    "        print(f'{x} Saindo...')\n",
    "        break\n",
    "    else:\n",
    "        print(f'{x} continuando...')\n",
    "        #continue = FuDEU LoopInfernal\n",
    "    x+=1"
   ]
  },
  {
   "cell_type": "code",
   "execution_count": 9,
   "metadata": {},
   "outputs": [
    {
     "name": "stdout",
     "output_type": "stream",
     "text": [
      "11 Saindo...\n"
     ]
    }
   ],
   "source": [
    "x = 0 \n",
    "while True:\n",
    "    x+=1\n",
    "    if x > 10:\n",
    "        print(f'{x} Saindo...')\n",
    "        break\n",
    "    else:\n",
    "        continue\n",
    "        print(f'{x} continuando...')\n",
    "        #continue = FuDEU LoopInfernal"
   ]
  },
  {
   "cell_type": "code",
   "execution_count": null,
   "metadata": {
    "collapsed": true
   },
   "outputs": [],
   "source": []
  }
 ],
 "metadata": {
  "kernelspec": {
   "display_name": "Python 3",
   "language": "python",
   "name": "python3"
  },
  "language_info": {
   "codemirror_mode": {
    "name": "ipython",
    "version": 3
   },
   "file_extension": ".py",
   "mimetype": "text/x-python",
   "name": "python",
   "nbconvert_exporter": "python",
   "pygments_lexer": "ipython3",
   "version": "3.6.0"
  }
 },
 "nbformat": 4,
 "nbformat_minor": 2
}
