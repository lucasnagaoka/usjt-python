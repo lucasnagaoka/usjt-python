{
 "cells": [
  {
   "cell_type": "markdown",
   "metadata": {},
   "source": [
    "## Eager Evaluation\n",
    "Considere a função que gera N números de uma sequência de Fibonacci abaixo. Ela é uma implementação Eager porque a sequência é criada de uma vez e toda armazenada na memória."
   ]
  },
  {
   "cell_type": "code",
   "execution_count": 2,
   "metadata": {},
   "outputs": [
    {
     "name": "stdout",
     "output_type": "stream",
     "text": [
      "[1, 1, 2, 3, 5, 8, 13, 21, 34, 55]\n"
     ]
    }
   ],
   "source": [
    "def eager_fibonacci(n):\n",
    "    lista = [1, 1]\n",
    "    for i in range(n - 2):\n",
    "        lista.append(sum(lista[-2:]))\n",
    "    return lista\n",
    "\n",
    "print(eager_fibonacci(10))"
   ]
  },
  {
   "cell_type": "markdown",
   "metadata": {},
   "source": [
    "## Lazy Evaluation\n",
    "A função ```lazy_fibonacci()``` mantém apenas dois números na memória de modo a conseguir calcular o próximo."
   ]
  },
  {
   "cell_type": "code",
   "execution_count": 3,
   "metadata": {},
   "outputs": [
    {
     "name": "stdout",
     "output_type": "stream",
     "text": [
      "1\n",
      "1\n",
      "2\n",
      "3\n",
      "5\n",
      "8\n",
      "13\n",
      "21\n",
      "34\n",
      "55\n"
     ]
    }
   ],
   "source": [
    "def lazy_fibonacci():\n",
    "    yield 1\n",
    "    yield 1\n",
    "    lista = [1, 1]\n",
    "    while True:\n",
    "        lista = [lista[-1], sum(lista[-2:])]\n",
    "        yield lista[-1]\n",
    "        \n",
    "for i, f in enumerate(lazy_fibonacci()):\n",
    "    if i == 10:\n",
    "        break\n",
    "    print(f)"
   ]
  }
 ],
 "metadata": {
  "kernelspec": {
   "display_name": "Python 3",
   "language": "python",
   "name": "python3"
  },
  "language_info": {
   "codemirror_mode": {
    "name": "ipython",
    "version": 3
   },
   "file_extension": ".py",
   "mimetype": "text/x-python",
   "name": "python",
   "nbconvert_exporter": "python",
   "pygments_lexer": "ipython3",
   "version": "3.6.4"
  }
 },
 "nbformat": 4,
 "nbformat_minor": 2
}
