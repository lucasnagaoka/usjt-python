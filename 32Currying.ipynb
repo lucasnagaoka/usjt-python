{
 "cells": [
  {
   "cell_type": "markdown",
   "metadata": {},
   "source": [
    "## Função com 3 argumentos"
   ]
  },
  {
   "cell_type": "code",
   "execution_count": 2,
   "metadata": {},
   "outputs": [
    {
     "name": "stdout",
     "output_type": "stream",
     "text": [
      "1110\n"
     ]
    }
   ],
   "source": [
    "def soma(a, b, c):\n",
    "    return a + b + c\n",
    "\n",
    "print(soma(10, 100, 1000))"
   ]
  },
  {
   "cell_type": "markdown",
   "metadata": {},
   "source": [
    "## Vinculando argumentos de função\n",
    "Podemos vincular os argumentos usando functools.partial()"
   ]
  },
  {
   "cell_type": "code",
   "execution_count": 4,
   "metadata": {},
   "outputs": [
    {
     "name": "stdout",
     "output_type": "stream",
     "text": [
      "1110\n"
     ]
    }
   ],
   "source": [
    "from functools import partial\n",
    "\n",
    "soma_10 = partial(soma, 10)\n",
    "soma_10_100 = partial(soma_10, 100)\n",
    "print(soma_10_100(1000))"
   ]
  },
  {
   "cell_type": "markdown",
   "metadata": {},
   "source": [
    "## Currying\n",
    "É um tipo específico de vinculação de argumentos, onde são criadas sequências de funções cada uma com exatamente um argumento. Em Python fazemos isso usando Decorators."
   ]
  },
  {
   "cell_type": "code",
   "execution_count": 7,
   "metadata": {},
   "outputs": [
    {
     "name": "stdout",
     "output_type": "stream",
     "text": [
      "1110\n",
      "1110\n"
     ]
    }
   ],
   "source": [
    "## mesma coisa que o método de cima, porém escrito de uma forma genérica\n",
    "\n",
    "## introspecção\n",
    "from inspect import signature\n",
    "\n",
    "def curry(fnc):\n",
    "    def inner(arg):\n",
    "        if len(signature(fnc).parameters) == 1:\n",
    "            return fnc(arg)\n",
    "        return curry(partial(fnc, arg))\n",
    "    return inner\n",
    "\n",
    "@curry\n",
    "def soma(a, b, c):\n",
    "    return a + b + c\n",
    "\n",
    "print(soma(10)(100)(1000))\n",
    "soma_10 = soma(10)\n",
    "soma_10_100 = soma_10(100)\n",
    "print(soma_10_100(1000))"
   ]
  }
 ],
 "metadata": {
  "kernelspec": {
   "display_name": "Python 3",
   "language": "python",
   "name": "python3"
  },
  "language_info": {
   "codemirror_mode": {
    "name": "ipython",
    "version": 3
   },
   "file_extension": ".py",
   "mimetype": "text/x-python",
   "name": "python",
   "nbconvert_exporter": "python",
   "pygments_lexer": "ipython3",
   "version": "3.6.4"
  }
 },
 "nbformat": 4,
 "nbformat_minor": 2
}
