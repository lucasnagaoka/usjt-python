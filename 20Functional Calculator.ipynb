{
 "cells": [
  {
   "cell_type": "markdown",
   "metadata": {},
   "source": [
    "# Paradigma Funcional"
   ]
  },
  {
   "cell_type": "markdown",
   "metadata": {},
   "source": [
    "### Abordagem Procedural"
   ]
  },
  {
   "cell_type": "code",
   "execution_count": 4,
   "metadata": {},
   "outputs": [
    {
     "name": "stdout",
     "output_type": "stream",
     "text": [
      "Esta é uma calculadora procedural\n",
      "Digite um número inteiro: 2\n",
      "Digite um operador (+, -, *, /): f\n",
      "Isto não é um operador válido\n",
      "Digite um operador (+, -, *, /): x\n",
      "Isto não é um operador válido\n",
      "Digite um operador (+, -, *, /): 2\n",
      "Isto não é um operador válido\n",
      "Digite um operador (+, -, *, /): +\n",
      "Digite um número inteiro: 2\n",
      "\n",
      "O resultado é: 4\n"
     ]
    }
   ],
   "source": [
    "OPERATORS = '+', '-', '*', '/'\n",
    "\n",
    "def p_main():\n",
    "    print('Esta é uma calculadora procedural')\n",
    "    number1 = p_get_number()\n",
    "    operator = p_get_operator()\n",
    "    number2 = p_get_number()\n",
    "    result = p_calculate(number1, operator, number2)\n",
    "    print('\\nO resultado é: %d' % result)\n",
    "    \n",
    "def p_get_number():\n",
    "    while True:\n",
    "        s = input('Digite um número inteiro: ')\n",
    "        try:\n",
    "            return int(s)\n",
    "        except ValueError:\n",
    "            print('Isto não é um número inteiro: ')    \n",
    "    \n",
    "def p_get_operator():\n",
    "    while True:\n",
    "        s = input('Digite um operador (+, -, *, /): ')\n",
    "        if s in OPERATORS:\n",
    "            return s\n",
    "        print('Isto não é um operador válido')\n",
    "    \n",
    "def p_calculate(number1, operator, number2):\n",
    "    if operator == '+':\n",
    "        return number1 + number2\n",
    "    elif operator == '-':\n",
    "        return number1 - number2\n",
    "    elif operator == '*':\n",
    "        return number1 * number2\n",
    "    elif operator == '/':\n",
    "        return number1 / number2\n",
    "    \n",
    "    raise Exception('Operador inválido')\n",
    "    \n",
    "p_main()"
   ]
  },
  {
   "cell_type": "markdown",
   "metadata": {},
   "source": [
    "### Abordagem funcional"
   ]
  },
  {
   "cell_type": "code",
   "execution_count": 11,
   "metadata": {},
   "outputs": [
    {
     "name": "stdout",
     "output_type": "stream",
     "text": [
      "Digite um número inteiro: 2\n",
      "Digite um operador (+, -, *, /): +\n",
      "Digite um número inteiro: 2\n",
      "\n",
      "O resultado é: 4\n"
     ]
    }
   ],
   "source": [
    "OPERATORS = '+', '-', '*', '/'\n",
    "\n",
    "def f_get_number():\n",
    "    return int(input('Digite um número inteiro: '))\n",
    "\n",
    "def f_get_operator():\n",
    "    return input('Digite um operador (+, -, *, /): ')\n",
    "\n",
    "def f_calculate(number1, operator, number2):\n",
    "    return number1 + number2 if operator == '+' \\\n",
    "        else number1 - number2 if operator == '-' \\\n",
    "        else number1 * number2 if operator == '*' \\\n",
    "        else number1 / number2 if operator == '/' \\\n",
    "        else None\n",
    "        \n",
    "def f_main():\n",
    "    return f_calculate(f_get_number(), f_get_operator(), f_get_number())\n",
    "\n",
    "print('\\nO resultado é: %d' %f_main())"
   ]
  },
  {
   "cell_type": "code",
   "execution_count": null,
   "metadata": {},
   "outputs": [],
   "source": []
  },
  {
   "cell_type": "code",
   "execution_count": null,
   "metadata": {},
   "outputs": [],
   "source": []
  }
 ],
 "metadata": {
  "kernelspec": {
   "display_name": "Python 3",
   "language": "python",
   "name": "python3"
  },
  "language_info": {
   "codemirror_mode": {
    "name": "ipython",
    "version": 3
   },
   "file_extension": ".py",
   "mimetype": "text/x-python",
   "name": "python",
   "nbconvert_exporter": "python",
   "pygments_lexer": "ipython3",
   "version": "3.6.4"
  }
 },
 "nbformat": 4,
 "nbformat_minor": 2
}
