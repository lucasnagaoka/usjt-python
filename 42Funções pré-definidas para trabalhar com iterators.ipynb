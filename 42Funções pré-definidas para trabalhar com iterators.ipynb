{
 "cells": [
  {
   "cell_type": "markdown",
   "metadata": {},
   "source": [
    "## zip(): liga elementos de múltiplos iteradores"
   ]
  },
  {
   "cell_type": "code",
   "execution_count": 1,
   "metadata": {},
   "outputs": [
    {
     "name": "stdout",
     "output_type": "stream",
     "text": [
      "Baleia é um Mamífero\n",
      "Lagarto é um Réptil\n",
      "Formiga é um Inseto\n"
     ]
    }
   ],
   "source": [
    "lista_especies = ['Baleia', 'Lagarto', 'Formiga']\n",
    "lista_classe = ['Mamífero', 'Réptil', 'Inseto']\n",
    "lista_fofura = [3, 2, 1, 0]\n",
    "\n",
    "for i in range(len(lista_especies)):\n",
    "    especies = lista_especies[i]\n",
    "    classe = lista_classe[i]\n",
    "    print('%s é um %s' % (especies, classe))"
   ]
  },
  {
   "cell_type": "code",
   "execution_count": 2,
   "metadata": {},
   "outputs": [
    {
     "name": "stdout",
     "output_type": "stream",
     "text": [
      "Baleia é um Mamífero e tem taxa de fofura de 3\n",
      "Lagarto é um Réptil e tem taxa de fofura de 2\n",
      "Formiga é um Inseto e tem taxa de fofura de 1\n"
     ]
    }
   ],
   "source": [
    "for especies, classe, fofura in zip(lista_especies, lista_classe, lista_fofura):\n",
    "    print('%s é um %s e tem taxa de fofura de %d' % (especies, classe, fofura))"
   ]
  },
  {
   "cell_type": "markdown",
   "metadata": {},
   "source": [
    "## map(): aplica uma função a cada elemento de um iterador"
   ]
  },
  {
   "cell_type": "markdown",
   "metadata": {},
   "source": [
    "O primeiro argumento é a função. O segundo, o iterador. A função deve aceitar somente um argumento."
   ]
  },
  {
   "cell_type": "code",
   "execution_count": 5,
   "metadata": {},
   "outputs": [
    {
     "name": "stdout",
     "output_type": "stream",
     "text": [
      "1.0\n",
      "1.0\n",
      "1.4142135623730951\n",
      "1.7320508075688772\n",
      "2.23606797749979\n",
      "2.8284271247461903\n"
     ]
    }
   ],
   "source": [
    "from math import sqrt\n",
    "\n",
    "fibonacci = [1, 1, 2, 3, 5, 8]\n",
    "\n",
    "for i in map(sqrt, fibonacci):\n",
    "    print(i)"
   ]
  },
  {
   "cell_type": "markdown",
   "metadata": {},
   "source": [
    "## enumerate(): fornece índices para os elementos"
   ]
  },
  {
   "cell_type": "code",
   "execution_count": 6,
   "metadata": {},
   "outputs": [
    {
     "name": "stdout",
     "output_type": "stream",
     "text": [
      "0 Baleia\n",
      "1 Lagarto\n",
      "2 Formiga\n"
     ]
    }
   ],
   "source": [
    "# sem enumerate()\n",
    "i = 0\n",
    "\n",
    "for especies in lista_especies:\n",
    "    print(i, especies)\n",
    "    i += 1"
   ]
  },
  {
   "cell_type": "code",
   "execution_count": 8,
   "metadata": {},
   "outputs": [
    {
     "name": "stdout",
     "output_type": "stream",
     "text": [
      "0 Baleia\n",
      "1 Lagarto\n",
      "2 Formiga\n"
     ]
    }
   ],
   "source": [
    "# com enumerate()\n",
    "\n",
    "for i, especies in enumerate(lista_especies):\n",
    "    print(i, especies)"
   ]
  },
  {
   "cell_type": "markdown",
   "metadata": {},
   "source": [
    "## filter(): exclui elementos"
   ]
  },
  {
   "cell_type": "code",
   "execution_count": 9,
   "metadata": {},
   "outputs": [
    {
     "name": "stdout",
     "output_type": "stream",
     "text": [
      "2\n",
      "8\n"
     ]
    }
   ],
   "source": [
    "# sem filter()\n",
    "for i in fibonacci:\n",
    "    if i % 2:\n",
    "        continue\n",
    "    print(i)"
   ]
  },
  {
   "cell_type": "code",
   "execution_count": 13,
   "metadata": {},
   "outputs": [
    {
     "name": "stdout",
     "output_type": "stream",
     "text": [
      "2\n",
      "8\n"
     ]
    }
   ],
   "source": [
    "# com filter\n",
    "for i in filter(lambda i: not i % 2, fibonacci):\n",
    "    print(i)"
   ]
  }
 ],
 "metadata": {
  "kernelspec": {
   "display_name": "Python 3",
   "language": "python",
   "name": "python3"
  },
  "language_info": {
   "codemirror_mode": {
    "name": "ipython",
    "version": 3
   },
   "file_extension": ".py",
   "mimetype": "text/x-python",
   "name": "python",
   "nbconvert_exporter": "python",
   "pygments_lexer": "ipython3",
   "version": "3.6.4"
  }
 },
 "nbformat": 4,
 "nbformat_minor": 2
}
